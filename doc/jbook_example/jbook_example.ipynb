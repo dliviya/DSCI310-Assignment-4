{
 "cells": [
  {
   "cell_type": "code",
   "execution_count": 2,
   "metadata": {
    "tags": [
     "remove-cell"
    ]
   },
   "outputs": [],
   "source": [
    "import pandas as pd\n",
    "from myst_nb import glue"
   ]
  },
  {
   "cell_type": "markdown",
   "metadata": {},
   "source": [
    "# Aim\n",
    "\n",
    "This project explores the historical population of horses in Canada\n",
    "between 1906 and 1972 for each province."
   ]
  },
  {
   "cell_type": "markdown",
   "metadata": {},
   "source": [
    "# Data\n",
    "\n",
    "Horse population data were sourced from the [Government of Canada's Open Data website](http://open.canada.ca/en/open-data).\n",
    "Specifically, {cite}`horses1, horses2`"
   ]
  },
  {
   "cell_type": "markdown",
   "metadata": {},
   "source": [
    "# Methods\n",
    "\n",
    "The R programming language {cite}`R` and the following R packages were used\n",
    "to perform the analysis: knitr {cite}`knitr`, tidyverse {cite}`tidyverse`, and\n",
    "bookdown {cite}`bookdown`\n",
    "_Note: this report is adapted from (Timbers, 2020)._"
   ]
  },
  {
   "cell_type": "markdown",
   "metadata": {},
   "source": [
    "# Results"
   ]
  },
  {
   "cell_type": "markdown",
   "metadata": {},
   "source": [
    "```{figure} ../../results/horse_pops_plot.png\n",
    "---\n",
    "height: 500px\n",
    "name: horse_pop\n",
    "---\n",
    "Horse populations for all provinces in Canada from 1906 - 1972\n",
    "\n",
    "```\n",
    "\n",
    "We can see from {numref}`Fig. {number} <horse-pop>`\n",
    "that Ontario, Saskatchewan and Alberta have had the highest horse populations in Canada.\n",
    "All provinces have had a decline in horse populations since 1940.\n",
    "This is likely due to the rebound of the Canadian automotive\n",
    "industry after the Great Depression and the Second World War.\n",
    "An interesting follow-up visualisation would be car sales per year for each\n",
    "Province over the time period visualised above to further support this hypothesis. "
   ]
  },
  {
   "cell_type": "code",
   "execution_count": 2,
   "metadata": {},
   "outputs": [
    {
     "ename": "NameError",
     "evalue": "name 'pd' is not defined",
     "output_type": "error",
     "traceback": [
      "\u001b[0;31m---------------------------------------------------------------------------\u001b[0m",
      "\u001b[0;31mNameError\u001b[0m                                 Traceback (most recent call last)",
      "Input \u001b[0;32mIn [2]\u001b[0m, in \u001b[0;36m<module>\u001b[0;34m\u001b[0m\n\u001b[0;32m----> 1\u001b[0m horses_sd \u001b[38;5;241m=\u001b[39m \u001b[43mpd\u001b[49m\u001b[38;5;241m.\u001b[39mread_csv(\u001b[38;5;124m\"\u001b[39m\u001b[38;5;124m../../results/horses_sd.csv\u001b[39m\u001b[38;5;124m\"\u001b[39m)\n\u001b[1;32m      3\u001b[0m largest_sd_prov \u001b[38;5;241m=\u001b[39m \u001b[38;5;28mstr\u001b[39m(horses_sd[\u001b[38;5;124m'\u001b[39m\u001b[38;5;124mProvince\u001b[39m\u001b[38;5;124m'\u001b[39m][\u001b[38;5;241m0\u001b[39m])\n\u001b[1;32m      4\u001b[0m glue(\u001b[38;5;124m\"\u001b[39m\u001b[38;5;124mlargest-sd-prov\u001b[39m\u001b[38;5;124m\"\u001b[39m, largest_sd_prov)\n",
      "\u001b[0;31mNameError\u001b[0m: name 'pd' is not defined"
     ]
    }
   ],
   "source": [
    "horses_sd = pd.read_csv(\"../../results/horses_sd.csv\")\n",
    "\n",
    "largest_sd_prov = str(horses_sd['Province'][0])\n",
    "glue(\"largest-sd-prov\", largest_sd_prov)\n",
    "\n",
    "horses_sd_noindex = horses_sd.style.hide_index()\n",
    "glue(\"horses-tbl\", horses_sd_noindex)"
   ]
  },
  {
   "cell_type": "markdown",
   "metadata": {},
   "source": [
    "Suppose we were interested in looking in more closely at the\n",
    "province with the highest spread (in terms of standard deviation)\n",
    "of horse populations. We present the standard deviations here:\n",
    "\n",
    "```{glue:figure} horses-tbl\n",
    "---\n",
    "figwidth: 500px\n",
    "name: horses-tbl-fig\n",
    "---\n",
    "\n",
    "Standard deviation of number of horses for each province between 1940 - 1972\n",
    "\n",
    "```\n",
    "\n",
    "\n",
    "Note that we define standard deviation (of a sample) as:\n",
    "\n",
    "$$s = sqrt{sum_{i = 1}^n(x_i - \\bar{x})} / {n-1}.$$\n",
    "\n",
    "Additionally, note that in {numref}`Fig. {number} <largest-sd-province-plot>` we\n",
    "consider the sample standard deviation of the number of horses\n",
    "during the same time span as {numref}`Fig. {number} <horse-pop>`."
   ]
  },
  {
   "cell_type": "markdown",
   "metadata": {},
   "source": [
    ":::{figure-md}\n",
    "<img src=\"../../results/horse_pop_plot_largest_sd.png\" width=\"200px\">\n",
    "\n",
    "Horse populations for the province with the largest standard deviation\n",
    ":::\n",
    "\n",
    "In {numref}`Fig. {number} <largest-sd-province-plot>` we zoom in\n",
    "on the province of {glue:text}`largest_sd_prov`, which had the largest spread of values in\n",
    "terms of standard deviation."
   ]
  },
  {
   "cell_type": "markdown",
   "metadata": {},
   "source": [
    "# References"
   ]
  },
  {
   "cell_type": "markdown",
   "metadata": {},
   "source": [
    "```{bibliography}\n",
    "```"
   ]
  }
 ],
 "metadata": {
  "celltoolbar": "Edit Metadata",
  "kernelspec": {
   "display_name": "Python 3 (ipykernel)",
   "language": "python",
   "name": "python3"
  },
  "language_info": {
   "codemirror_mode": {
    "name": "ipython",
    "version": 3
   },
   "file_extension": ".py",
   "mimetype": "text/x-python",
   "name": "python",
   "nbconvert_exporter": "python",
   "pygments_lexer": "ipython3",
   "version": "3.9.7"
  },
  "toc-autonumbering": false,
  "toc-showcode": false,
  "toc-showmarkdowntxt": false,
  "toc-showtags": false
 },
 "nbformat": 4,
 "nbformat_minor": 4
}
